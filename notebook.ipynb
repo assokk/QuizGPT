{
 "cells": [
  {
   "cell_type": "code",
   "execution_count": null,
   "id": "e5ba05a1",
   "metadata": {},
   "outputs": [
    {
     "name": "stdout",
     "output_type": "stream",
     "text": [
      "\n",
      "        Title: Interstellar\n",
      "        Director: Christopher Nolan\n",
      "        Cast: Matthew McConaughey, Anne Hathaway, Jessica Chastain\n",
      "        Budget: $165 million\n",
      "        Box Office: $677.5 million\n",
      "        Genre: Sci-Fi, Drama\n",
      "        Synopsis: A team of explorers travel through a wormhole in space in an attempt to ensure humanity's survival by finding a new habitable planet.\n",
      "        "
     ]
    },
    {
     "data": {
      "text/plain": [
       "AIMessageChunk(content=\"\\n        Title: Interstellar\\n        Director: Christopher Nolan\\n        Cast: Matthew McConaughey, Anne Hathaway, Jessica Chastain\\n        Budget: $165 million\\n        Box Office: $677.5 million\\n        Genre: Sci-Fi, Drama\\n        Synopsis: A team of explorers travel through a wormhole in space in an attempt to ensure humanity's survival by finding a new habitable planet.\\n        \")"
      ]
     },
     "execution_count": 5,
     "metadata": {},
     "output_type": "execute_result"
    }
   ],
   "source": [
    "from langchain.chat_models import ChatOpenAI\n",
    "from langchain.prompts.few_shot import FewShotChatMessagePromptTemplate\n",
    "from langchain.callbacks import StreamingStdOutCallbackHandler\n",
    "from langchain.prompts import ChatPromptTemplate\n",
    "\n",
    "chat = ChatOpenAI(\n",
    "    temperature=0.1,\n",
    "    streaming=True,\n",
    "    callbacks=[StreamingStdOutCallbackHandler()],\n",
    ")\n",
    "\n",
    "# 예시 데이터: 영화 정보\n",
    "examples = [\n",
    "    {\n",
    "        \"movie\": \"Inception\",\n",
    "        \"info\": \"\"\"\n",
    "        Title: Inception\n",
    "        Director: Christopher Nolan\n",
    "        Cast: Leonardo DiCaprio, Joseph Gordon-Levitt, Ellen Page\n",
    "        Budget: $160 million\n",
    "        Box Office: $836.8 million\n",
    "        Genre: Sci-Fi, Thriller\n",
    "        Synopsis: A thief who steals corporate secrets through the use of dream-sharing technology is given the inverse task of planting an idea into the mind of a CEO.\n",
    "        \"\"\",\n",
    "    },\n",
    "    {\n",
    "        \"movie\": \"Parasite\",\n",
    "        \"info\": \"\"\"\n",
    "        Title: Parasite\n",
    "        Director: Bong Joon-ho\n",
    "        Cast: Song Kang-ho, Lee Sun-kyun, Cho Yeo-jeong\n",
    "        Budget: $11 million\n",
    "        Box Office: $266 million\n",
    "        Genre: Drama, Thriller\n",
    "        Synopsis: A poor family schemes to become employed by a wealthy household by infiltrating their domestic lives and posing as unrelated, highly qualified individuals.\n",
    "        \"\"\",\n",
    "    },\n",
    "    {\n",
    "        \"movie\": \"The Godfather\",\n",
    "        \"info\": \"\"\"\n",
    "        Title: The Godfather\n",
    "        Director: Francis Ford Coppola\n",
    "        Cast: Marlon Brando, Al Pacino, James Caan\n",
    "        Budget: $6 million\n",
    "        Box Office: $250 million\n",
    "        Genre: Crime, Drama\n",
    "        Synopsis: The aging patriarch of an organized crime dynasty transfers control of his clandestine empire to his reluctant son.\n",
    "        \"\"\",\n",
    "    },\n",
    "]\n",
    "\n",
    "example_prompt = ChatPromptTemplate.from_messages(\n",
    "    [\n",
    "        (\"human\", \"Tell me about the movie {movie}.\"),\n",
    "        (\"ai\", \"{info}\"),\n",
    "    ]\n",
    ")\n",
    "\n",
    "example_prompt = FewShotChatMessagePromptTemplate(\n",
    "    example_prompt=example_prompt,\n",
    "    examples=examples,\n",
    ")\n",
    "\n",
    "final_prompt = ChatPromptTemplate.from_messages(\n",
    "    [\n",
    "        (\"system\", \"You are a movie expert who provides structured information about films.\"),\n",
    "        example_prompt,\n",
    "        (\"human\", \"Tell me about the movie {movie}.\"),\n",
    "    ]\n",
    ")\n",
    "\n",
    "chain = final_prompt | chat\n",
    "\n",
    "chain.invoke({\"movie\": \"Interstellar\"})\n"
   ]
  }
 ],
 "metadata": {
  "kernelspec": {
   "display_name": "env",
   "language": "python",
   "name": "python3"
  },
  "language_info": {
   "codemirror_mode": {
    "name": "ipython",
    "version": 3
   },
   "file_extension": ".py",
   "mimetype": "text/x-python",
   "name": "python",
   "nbconvert_exporter": "python",
   "pygments_lexer": "ipython3",
   "version": "3.11.6"
  }
 },
 "nbformat": 4,
 "nbformat_minor": 5
}
